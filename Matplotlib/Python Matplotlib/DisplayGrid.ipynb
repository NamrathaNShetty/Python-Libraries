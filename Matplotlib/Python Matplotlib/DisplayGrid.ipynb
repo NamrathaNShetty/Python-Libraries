{
 "cells": [
  {
   "cell_type": "markdown",
   "source": [
    "* @Author: Namratha N Shetty\n",
    "* @Date: 2021-09-27 18:42  \n",
    "* @Last Modified by: Namratha N Shetty\n",
    "* @Last Modified time: 2021-09-27 18:59\n",
    "* @Title: Python program to display the grid and draw line charts of the closing value of\n",
    "Alphabet Inc. between October 3, 2016 to October 7, 2016. Customized the grid lines with\n",
    "linestyle -, width .5. and color blue."
   ],
   "metadata": {}
  },
  {
   "cell_type": "code",
   "execution_count": 9,
   "source": [
    "import matplotlib.pyplot as plt\n",
    "from Loggers import logger\n",
    "import pandas as pd\n",
    "\n",
    "try:\n",
    "\n",
    "    df = pd.read_csv('fdata1.csv', sep=',', parse_dates=True, index_col=0)\n",
    "\n",
    "    plt.plot(df, color='red', linestyle='solid', linewidth = 3,\n",
    "         marker='o', markerfacecolor='black', markersize=6, label = 'Date')\n",
    "    \n",
    "              \n",
    "    plt.xlabel('Date')\n",
    "    plt.ylabel('Close')\n",
    "\n",
    "    plt.title('Sample Graph')\n",
    "    plt.legend()\n",
    "    #plt.grid(linestyle='-', linewidth='0.5', color='blue')\n",
    "    plt.show()\n",
    "except Exception as e: \n",
    "    logger.error(e)"
   ],
   "outputs": [],
   "metadata": {}
  }
 ],
 "metadata": {
  "orig_nbformat": 4,
  "language_info": {
   "name": "python",
   "version": "3.8.10",
   "mimetype": "text/x-python",
   "codemirror_mode": {
    "name": "ipython",
    "version": 3
   },
   "pygments_lexer": "ipython3",
   "nbconvert_exporter": "python",
   "file_extension": ".py"
  },
  "kernelspec": {
   "name": "python3",
   "display_name": "Python 3.8.10 64-bit"
  },
  "interpreter": {
   "hash": "916dbcbb3f70747c44a77c7bcd40155683ae19c65e1c03b4aa3499c5328201f1"
  }
 },
 "nbformat": 4,
 "nbformat_minor": 2
}
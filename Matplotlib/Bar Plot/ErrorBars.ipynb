{
 "cells": [
  {
   "cell_type": "markdown",
   "source": [
    "\n",
    "* @Author: Namratha N Shetty\n",
    "* @Date: 2021-09-28 15:28  \n",
    "* @Last Modified by: Namratha N Shetty\n",
    "* @Last Modified time: 2021-09-28 15:28\n",
    "* @Title:Python program to create bar plots with error bars on the same figure.Attach a text"
   ],
   "metadata": {}
  },
  {
   "cell_type": "code",
   "execution_count": 16,
   "source": [
    "import numpy as np\n",
    "import matplotlib.pyplot as plt\n",
    "from Loggers import logger\n",
    "\n",
    "try:\n",
    "    N = 5\n",
    "    menMeans = (54.74, 42.35, 67.37, 58.24, 30.25)\n",
    "    menStd = (4, 3, 4, 1, 5)\n",
    "    # the x locations for the groups\n",
    "    x = np.arange(N) \n",
    "    print(x)   \n",
    "    width =0.4\n",
    "\n",
    "    plt.bar(x, menMeans,width =width,color='cyan')\n",
    "    plt.errorbar(x,menMeans,yerr=menStd,fmt ='o',color='red')\n",
    "    \n",
    "\n",
    "    plt.ylabel('Scores')\n",
    "    plt.xlabel('Velocity')\n",
    "    plt.title('Scores by Velocity')\n",
    "    plt.show()\n",
    "except Exception as e:\n",
    "    logger.error(e)"
   ],
   "outputs": [
    {
     "output_type": "stream",
     "name": "stdout",
     "text": [
      "[0 1 2 3 4]\n"
     ]
    },
    {
     "output_type": "display_data",
     "data": {
      "image/png": "[encoded data removed]",
      "text/plain": [
       "<Figure size 432x288 with 1 Axes>"
      ]
     },
     "metadata": {
      "needs_background": "light"
     }
    }
   ],
   "metadata": {}
  }
 ],
 "metadata": {
  "orig_nbformat": 4,
  "language_info": {
   "name": "python",
   "version": "3.8.10",
   "mimetype": "text/x-python",
   "codemirror_mode": {
    "name": "ipython",
    "version": 3
   },
   "pygments_lexer": "ipython3",
   "nbconvert_exporter": "python",
   "file_extension": ".py"
  },
  "kernelspec": {
   "name": "python3",
   "display_name": "Python 3.8.10 64-bit"
  },
  "interpreter": {
   "hash": "916dbcbb3f70747c44a77c7bcd40155683ae19c65e1c03b4aa3499c5328201f1"
  }
 },
 "nbformat": 4,
 "nbformat_minor": 2
}
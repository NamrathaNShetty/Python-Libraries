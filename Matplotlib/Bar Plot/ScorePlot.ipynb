{
 "cells": [
  {
   "cell_type": "markdown",
   "source": [
    "\n",
    "* @Author: Namratha N Shetty\n",
    "* @Date: 2021-09-28 15:28  \n",
    "* @Last Modified by: Namratha N Shetty\n",
    "* @Last Modified time: 2021-09-28 15:28\n",
    "* @Title: Python program to create bar plot of scores by group and gender."
   ],
   "metadata": {}
  },
  {
   "cell_type": "code",
   "execution_count": 6,
   "source": [
    "import numpy as np\n",
    "import matplotlib.pyplot as plt\n",
    "from Loggers import logger\n",
    "\n",
    "try:\n",
    "    # data to plot\n",
    "    N = 5\n",
    "    men_means = (22, 30, 33, 30, 26)\n",
    "    women_means = (25, 32, 30, 35, 29)\n",
    "\n",
    "    index = np.arange(N)\n",
    "    width = 0.3\n",
    "\n",
    "    plt.bar(index, men_means, width=width, color='g', label='Men')\n",
    "\n",
    "    plt.bar(index + width, women_means, width=width, color='r', label='Women')\n",
    "\n",
    "    plt.xlabel('Person')\n",
    "    plt.ylabel('Scores')\n",
    "    plt.title('Scores by person')\n",
    "    plt.xticks(index, ('G1', 'G2', 'G3', 'G4', 'G5'))\n",
    "    plt.legend()\n",
    "\n",
    "    plt.tight_layout()\n",
    "    plt.show()\n",
    "except Exception as e:\n",
    "    logger.error(e)"
   ],
   "outputs": [
    {
     "output_type": "display_data",
     "data": {
      "image/png": "[encoded data removed]",
      "text/plain": [
       "<Figure size 432x288 with 1 Axes>"
      ]
     },
     "metadata": {
      "needs_background": "light"
     }
    }
   ],
   "metadata": {}
  }
 ],
 "metadata": {
  "orig_nbformat": 4,
  "language_info": {
   "name": "python",
   "version": "3.8.10",
   "mimetype": "text/x-python",
   "codemirror_mode": {
    "name": "ipython",
    "version": 3
   },
   "pygments_lexer": "ipython3",
   "nbconvert_exporter": "python",
   "file_extension": ".py"
  },
  "kernelspec": {
   "name": "python3",
   "display_name": "Python 3.8.10 64-bit"
  },
  "interpreter": {
   "hash": "916dbcbb3f70747c44a77c7bcd40155683ae19c65e1c03b4aa3499c5328201f1"
  }
 },
 "nbformat": 4,
 "nbformat_minor": 2
}
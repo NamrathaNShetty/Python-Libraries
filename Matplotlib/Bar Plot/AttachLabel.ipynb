{
 "cells": [
  {
   "cell_type": "markdown",
   "source": [
    "\n",
    "* @Author: Namratha N Shetty\n",
    "* @Date: 2021-09-28 15:28  \n",
    "* @Last Modified by: Namratha N Shetty\n",
    "* @Last Modified time: 2021-09-28 15:28\n",
    "* @Title: Python programming to display a  bar chart of the popularity of programming Languages. Attach a text label above each bar displaying its popularity (float value)."
   ],
   "metadata": {}
  },
  {
   "cell_type": "code",
   "execution_count": 10,
   "source": [
    "import matplotlib.pyplot as plt\n",
    "import numpy as np\n",
    "\n",
    "\n",
    "languages = ('Java','Python', 'PHP', 'Javascript', 'C#', 'C++')\n",
    "y = np.arange(len(languages))\n",
    "print(y)\n",
    "popularity = [22.2, 17.6, 8.8, 8, 7.7, 6.7]\n",
    "\n",
    "rects1=plt.bar(y, popularity,color=['blue','green','yellow','cyan','magenta','red'])\n",
    "plt.xticks(y, languages)\n",
    "\n",
    "# # for i in range(len(popularity)):\n",
    "# #       plt.text(i ,y[i], y[i],ha ='center', va ='bottom')\n",
    "\n",
    "# for i, v in enumerate(y):\n",
    "#      plt.text(i , y[i], y[i],ha ='center',va ='bottom')    \n",
    "\n",
    "\n",
    "plt.xlabel('Languages')\n",
    "plt.ylabel('Popularity')\n",
    "plt.title('Most loved programming languages')\n",
    "\n",
    "def autolabel(rects):\n",
    "    \"\"\"\n",
    "    Description:\n",
    "        Attach a text label above each bar displaying its height.\n",
    "    Parameter:\n",
    "        it takes rects as parameter.\n",
    "    \"\"\"\n",
    "    for rect in rects:\n",
    "       height = rect.get_height()\n",
    "       plt.text(rect.get_x() + rect.get_width()/2., 1.05*height,\n",
    "                '%f' % float(height),\n",
    "       ha='center', va='bottom')\n",
    "\n",
    "autolabel(rects1)\n",
    "plt.show()  \n"
   ],
   "outputs": [
    {
     "output_type": "stream",
     "name": "stdout",
     "text": [
      "[0 1 2 3 4 5]\n"
     ]
    },
    {
     "output_type": "display_data",
     "data": {
      "image/png": "[encoded data removed]",
      "text/plain": [
       "<Figure size 432x288 with 1 Axes>"
      ]
     },
     "metadata": {
      "needs_background": "light"
     }
    }
   ],
   "metadata": {}
  }
 ],
 "metadata": {
  "orig_nbformat": 4,
  "language_info": {
   "name": "python",
   "version": "3.8.10",
   "mimetype": "text/x-python",
   "codemirror_mode": {
    "name": "ipython",
    "version": 3
   },
   "pygments_lexer": "ipython3",
   "nbconvert_exporter": "python",
   "file_extension": ".py"
  },
  "kernelspec": {
   "name": "python3",
   "display_name": "Python 3.8.10 64-bit"
  },
  "interpreter": {
   "hash": "916dbcbb3f70747c44a77c7bcd40155683ae19c65e1c03b4aa3499c5328201f1"
  }
 },
 "nbformat": 4,
 "nbformat_minor": 2
}
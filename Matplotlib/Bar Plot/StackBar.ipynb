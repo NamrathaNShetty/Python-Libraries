{
 "cells": [
  {
   "cell_type": "markdown",
   "source": [
    "\n",
    "* @Author: Namratha N Shetty\n",
    "* @Date: 2021-09-28 15:28  \n",
    "* @Last Modified by: Namratha N Shetty\n",
    "* @Last Modified time: 2021-09-28 15:28\n",
    "* @Title: PPython program to create a stacked bar plot with error bars."
   ],
   "metadata": {}
  },
  {
   "cell_type": "code",
   "execution_count": 7,
   "source": [
    "import numpy as np\n",
    "import matplotlib.pyplot as plt\n",
    "from Loggers import logger\n",
    "\n",
    "try:\n",
    "    N = 5\n",
    "    menMeans = (22, 30, 35, 35, 26)\n",
    "    womenMeans = (25, 32, 30, 35, 29)\n",
    "    menStd = (4, 3, 4, 1, 5)\n",
    "    womenStd = (3, 5, 2, 3, 3)\n",
    "    # the x locations for the groups\n",
    "    x = np.arange(N)    \n",
    "    width = 0.35      \n",
    "\n",
    "    plt.bar(x, menMeans, width=width, yerr=menStd, color='red')\n",
    "    plt.bar(x, womenMeans, width =width,bottom=menMeans, yerr=womenStd, color='green')\n",
    "\n",
    "    plt.ylabel('Scores')\n",
    "    plt.xlabel('Groups')\n",
    "    plt.title('Scores by group and gender')\n",
    "    plt.legend(('Men', 'Women'))\n",
    "\n",
    "    plt.show()\n",
    "except Exception as e:\n",
    "    logger.error(e)"
   ],
   "outputs": [
    {
     "output_type": "display_data",
     "data": {
      "image/png": "[encoded data removed]",
      "text/plain": [
       "<Figure size 432x288 with 1 Axes>"
      ]
     },
     "metadata": {
      "needs_background": "light"
     }
    }
   ],
   "metadata": {}
  }
 ],
 "metadata": {
  "orig_nbformat": 4,
  "language_info": {
   "name": "python",
   "version": "3.8.10",
   "mimetype": "text/x-python",
   "codemirror_mode": {
    "name": "ipython",
    "version": 3
   },
   "pygments_lexer": "ipython3",
   "nbconvert_exporter": "python",
   "file_extension": ".py"
  },
  "kernelspec": {
   "name": "python3",
   "display_name": "Python 3.8.10 64-bit"
  },
  "interpreter": {
   "hash": "916dbcbb3f70747c44a77c7bcd40155683ae19c65e1c03b4aa3499c5328201f1"
  }
 },
 "nbformat": 4,
 "nbformat_minor": 2
}
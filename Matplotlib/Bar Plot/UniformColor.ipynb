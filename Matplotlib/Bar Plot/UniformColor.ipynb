{
 "cells": [
  {
   "cell_type": "markdown",
   "source": [
    "\n",
    "* @Author: Namratha N Shetty\n",
    "* @Date: 2021-09-28 15:28  \n",
    "* @Last Modified by: Namratha N Shetty\n",
    "* @Last Modified time: 2021-09-28 15:28\n",
    "* @Title: Python programming to display a horizontal bar chart of the popularity of programming Languages. Use uniform color."
   ],
   "metadata": {}
  },
  {
   "cell_type": "code",
   "execution_count": 18,
   "source": [
    "import matplotlib.pyplot as plt\n",
    "import numpy as np\n",
    "\n",
    "languages = ('Java','Python', 'PHP', 'Javascript', 'C#', 'C++')\n",
    "y = np.arange(len(languages))\n",
    "print(y)\n",
    "popularity = [22.2, 17.6, 8.8, 8, 7.7, 6.7]\n",
    "\n",
    "plt.bar(y, popularity,color=(0.2,0.3,0.1,1))\n",
    "plt.xticks(y, languages)\n",
    "\n",
    "plt.xlabel('Languages')\n",
    "plt.ylabel('Popularity')\n",
    "plt.title('Most loved programming languages')\n",
    "plt.show()"
   ],
   "outputs": [
    {
     "output_type": "stream",
     "name": "stdout",
     "text": [
      "[0 1 2 3 4 5]\n"
     ]
    },
    {
     "output_type": "display_data",
     "data": {
      "image/png": "[encoded data removed]",
      "text/plain": [
       "<Figure size 432x288 with 1 Axes>"
      ]
     },
     "metadata": {
      "needs_background": "light"
     }
    }
   ],
   "metadata": {}
  }
 ],
 "metadata": {
  "orig_nbformat": 4,
  "language_info": {
   "name": "python",
   "version": "3.8.10",
   "mimetype": "text/x-python",
   "codemirror_mode": {
    "name": "ipython",
    "version": 3
   },
   "pygments_lexer": "ipython3",
   "nbconvert_exporter": "python",
   "file_extension": ".py"
  },
  "kernelspec": {
   "name": "python3",
   "display_name": "Python 3.8.10 64-bit"
  },
  "interpreter": {
   "hash": "916dbcbb3f70747c44a77c7bcd40155683ae19c65e1c03b4aa3499c5328201f1"
  }
 },
 "nbformat": 4,
 "nbformat_minor": 2
}
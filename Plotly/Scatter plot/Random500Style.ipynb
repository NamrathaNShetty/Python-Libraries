{
 "cells": [
  {
   "cell_type": "markdown",
   "source": [
    "* @Author: Namratha N Shetty\n",
    "* @Date: 2021-09-29  \n",
    "* @Last Modified by: Namratha N Shetty\n",
    "* @Last Modified time: 2021-09-29\n",
    "* @Title: Program to draw scatter plots for random 500 x and y coordinates"
   ],
   "metadata": {}
  },
  {
   "cell_type": "code",
   "execution_count": null,
   "source": [
    "import numpy as np\n",
    "import pandas as pd\n",
    "import plotly.express as px\n",
    "from pylab import randn\n",
    "\n",
    "x = randn(500)\n",
    "y = randn(500)\n",
    "df = pd.DataFrame({\n",
    "    'col_x':x, 'col_y':y\n",
    "})\n",
    "df.head()\n",
    "\n",
    "fig = px.scatter(df, x='col_x', y='col_y',\n",
    "                 width=700, height=500,\n",
    "                 title=\"2D Scatter Plot\")\n",
    "fig.show()"
   ],
   "outputs": [],
   "metadata": {}
  }
 ],
 "metadata": {
  "orig_nbformat": 4,
  "language_info": {
   "name": "python"
  }
 },
 "nbformat": 4,
 "nbformat_minor": 2
}
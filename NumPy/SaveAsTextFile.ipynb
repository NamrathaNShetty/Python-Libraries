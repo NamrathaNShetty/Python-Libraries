{
 "cells": [
  {
   "cell_type": "markdown",
   "source": [
    "* @Author: Namratha N Shetty\n",
    "* @Date: 2021-09-25 18:03  \n",
    "* @Last Modified by: Namratha N Shetty\n",
    "* @Last Modified time: 2021-09-25 18:30\n",
    "* @Title: Program to save a NumPy array to a text file."
   ],
   "metadata": {}
  },
  {
   "cell_type": "code",
   "execution_count": 10,
   "source": [
    "import numpy as np\n",
    "from Loggers import logger\n",
    "try:\n",
    "    arr1 = np.array([1,2,5,9,15])\n",
    "    print(\"Array :\",arr1)\n",
    "    np.savetxt('file.txt', arr1)\n",
    "    content = np.loadtxt('file.txt')\n",
    "    print(\"\\nContent in file1.txt:\\n\", content)\n",
    "except Exception as e:\n",
    "    logger.error(e)\n"
   ],
   "outputs": [
    {
     "output_type": "stream",
     "name": "stdout",
     "text": [
      "Array : [ 1  2  5  9 15]\n",
      "\n",
      "Content in file1.txt:\n",
      " [ 1.  2.  5.  9. 15.]\n"
     ]
    }
   ],
   "metadata": {}
  }
 ],
 "metadata": {
  "orig_nbformat": 4,
  "language_info": {
   "name": "python",
   "version": "3.8.10",
   "mimetype": "text/x-python",
   "codemirror_mode": {
    "name": "ipython",
    "version": 3
   },
   "pygments_lexer": "ipython3",
   "nbconvert_exporter": "python",
   "file_extension": ".py"
  },
  "kernelspec": {
   "name": "python3",
   "display_name": "Python 3.8.10 64-bit"
  },
  "interpreter": {
   "hash": "916dbcbb3f70747c44a77c7bcd40155683ae19c65e1c03b4aa3499c5328201f1"
  }
 },
 "nbformat": 4,
 "nbformat_minor": 2
}
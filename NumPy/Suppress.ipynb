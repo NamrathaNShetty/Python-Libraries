{
 "cells": [
  {
   "cell_type": "code",
   "execution_count": 1,
   "source": [
    "import numpy as np \n",
    "from Loggers import logger\n",
    "try:\n",
    "    arr =np.array([1.60000000e-10, 1.60000000e+00, 1.20000000e+03, 2.35000000e-01]) \n",
    "    print(\"Original array elements:\")\n",
    "    print(arr)\n",
    "    print(\"Print array values with precision 3:\")\n",
    "    np.set_printoptions(suppress=True)\n",
    "    print(arr)\n",
    "except Exception as e:\n",
    "    logger.error(e)\n"
   ],
   "outputs": [
    {
     "output_type": "stream",
     "name": "stdout",
     "text": [
      "Original array elements:\n",
      "[1.60e-10 1.60e+00 1.20e+03 2.35e-01]\n",
      "Print array values with precision 3:\n",
      "[   0.       1.6   1200.       0.235]\n"
     ]
    }
   ],
   "metadata": {}
  },
  {
   "cell_type": "markdown",
   "source": [
    "* @Author: Namratha N Shetty\n",
    "* @Date: 2021-09-25 18:03  \n",
    "* @Last Modified by: Namratha N Shetty\n",
    "* @Last Modified time: 2021-09-25 18:30\n",
    "* @Title: Program to suppresses the use of scientific notation for small\n",
    "numbers in numpy array."
   ],
   "metadata": {}
  }
 ],
 "metadata": {
  "orig_nbformat": 4,
  "language_info": {
   "name": "python",
   "version": "3.8.10",
   "mimetype": "text/x-python",
   "codemirror_mode": {
    "name": "ipython",
    "version": 3
   },
   "pygments_lexer": "ipython3",
   "nbconvert_exporter": "python",
   "file_extension": ".py"
  },
  "kernelspec": {
   "name": "python3",
   "display_name": "Python 3.8.10 64-bit"
  },
  "interpreter": {
   "hash": "916dbcbb3f70747c44a77c7bcd40155683ae19c65e1c03b4aa3499c5328201f1"
  }
 },
 "nbformat": 4,
 "nbformat_minor": 2
}
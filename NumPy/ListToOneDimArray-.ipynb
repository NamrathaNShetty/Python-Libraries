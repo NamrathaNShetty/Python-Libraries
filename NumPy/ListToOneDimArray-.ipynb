{
 "cells": [
  {
   "cell_type": "markdown",
   "source": [
    "'''\n",
    "* @Author: Namratha N Shetty\n",
    "* @Date: 2021-09-24 15:28  \n",
    "* @Last Modified by: Namratha N Shetty\n",
    "* @Last Modified time: 2021-09-24 15:28\n",
    "* @Title: Program to convert a list of numeric value into a one-dimensional\n",
    "NumPy array.\n",
    "'''"
   ],
   "metadata": {}
  },
  {
   "cell_type": "code",
   "execution_count": 16,
   "source": [
    "import numpy as np\n",
    "from Loggers import logger\n",
    "try:\n",
    "    list = [12.23,13.32,100.44,36.32]\n",
    "    print(\"Original List:\", list)\n",
    "    arr = np.array(list)\n",
    "    print(\"One-dimensional NumPy Array:\", arr)\n",
    "except Exception as e:\n",
    "    logger.error(e)"
   ],
   "outputs": [
    {
     "output_type": "stream",
     "name": "stdout",
     "text": [
      "Original List: [12.23, 13.32, 100.44, 36.32]\n"
     ]
    }
   ],
   "metadata": {}
  }
 ],
 "metadata": {
  "orig_nbformat": 4,
  "language_info": {
   "name": "python",
   "version": "3.8.10",
   "mimetype": "text/x-python",
   "codemirror_mode": {
    "name": "ipython",
    "version": 3
   },
   "pygments_lexer": "ipython3",
   "nbconvert_exporter": "python",
   "file_extension": ".py"
  },
  "kernelspec": {
   "name": "python3",
   "display_name": "Python 3.8.10 64-bit"
  },
  "interpreter": {
   "hash": "916dbcbb3f70747c44a77c7bcd40155683ae19c65e1c03b4aa3499c5328201f1"
  }
 },
 "nbformat": 4,
 "nbformat_minor": 2
}
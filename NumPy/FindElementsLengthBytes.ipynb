{
 "cells": [
  {
   "cell_type": "markdown",
   "source": [
    "* @Author: Namratha N Shetty\n",
    "* @Date: 2021-09-25 14:03  \n",
    "* @Last Modified by: Namratha N Shetty\n",
    "* @Last Modified time: 2021-09-25 14:30\n",
    "* @Title: Program to find the number of elements of an array, length of one\n",
    "array element in bytes and total bytes consumed by the elements"
   ],
   "metadata": {}
  },
  {
   "cell_type": "code",
   "execution_count": 1,
   "source": [
    "import numpy as np\n",
    "from Loggers import logger\n",
    "try:\n",
    "    arr = np.array([1,2,3], dtype=np.float64)\n",
    "    print(\"Size of the array: \", arr.size)\n",
    "    print(\"Length of one array element in bytes: \", arr.itemsize)\n",
    "    print(\"Total bytes consumed by the elements of the array: \", arr.nbytes)\n",
    "except Exception as e:\n",
    "    logger.error(e)"
   ],
   "outputs": [
    {
     "output_type": "stream",
     "name": "stdout",
     "text": [
      "Size of the array:  3\n",
      "Length of one array element in bytes:  8\n",
      "Total bytes consumed by the elements of the array:  24\n"
     ]
    }
   ],
   "metadata": {}
  }
 ],
 "metadata": {
  "orig_nbformat": 4,
  "language_info": {
   "name": "python",
   "version": "3.8.10",
   "mimetype": "text/x-python",
   "codemirror_mode": {
    "name": "ipython",
    "version": 3
   },
   "pygments_lexer": "ipython3",
   "nbconvert_exporter": "python",
   "file_extension": ".py"
  },
  "kernelspec": {
   "name": "python3",
   "display_name": "Python 3.8.10 64-bit"
  },
  "interpreter": {
   "hash": "916dbcbb3f70747c44a77c7bcd40155683ae19c65e1c03b4aa3499c5328201f1"
  }
 },
 "nbformat": 4,
 "nbformat_minor": 2
}